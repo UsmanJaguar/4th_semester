{
 "cells": [
  {
   "cell_type": "code",
   "execution_count": 1,
   "metadata": {},
   "outputs": [
    {
     "name": "stdout",
     "output_type": "stream",
     "text": [
      "Solution Found:\n",
      "(0, 0)\n",
      "(4, 0)\n",
      "(4, 3)\n",
      "(1, 3)\n",
      "(1, 0)\n",
      "(0, 1)\n",
      "(4, 1)\n",
      "(2, 3)\n"
     ]
    },
    {
     "data": {
      "text/plain": [
       "True"
      ]
     },
     "execution_count": 1,
     "metadata": {},
     "output_type": "execute_result"
    }
   ],
   "source": [
    "def waterJugDFS(capacity1, capacity2, goal):\n",
    "    stack = []  \n",
    "    visited = set()\n",
    "\n",
    "    stack.append((0, 0))\n",
    "    visited.add((0, 0))\n",
    "\n",
    "    actions = []\n",
    "\n",
    "    while stack:\n",
    "        jug1, jug2 = stack.pop() \n",
    "        actions.append((jug1, jug2))\n",
    "\n",
    "        # Check if target is achieved\n",
    "        if jug1 == goal or jug2 == goal:\n",
    "            print(\"Solution Found:\")\n",
    "            for action in actions:\n",
    "                print(action)\n",
    "            return True\n",
    "\n",
    "       \n",
    "        pour1to2 = min(jug1, capacity2 - jug2)  \n",
    "        pour2to1 = min(jug2, capacity1 - jug1)\n",
    "\n",
    "        rules = [\n",
    "            (capacity1, jug2),  # 1: Fill jug1\n",
    "            (jug1, capacity2),  # 2: Fill jug2\n",
    "            (0, jug2),          # 3: Empty jug1\n",
    "            (jug1, 0),          # 4: Empty jug2\n",
    "            (jug1 - pour1to2, jug2 + pour1to2),  # 5: Pour jug1 into jug2 until jug2 is full\n",
    "            (jug1 + pour2to1, jug2 - pour2to1),  # 6: Pour jug2 into jug1 until jug1 is full\n",
    "        ]\n",
    "\n",
    "        #\n",
    "        for state in reversed(rules):  \n",
    "            if state not in visited:\n",
    "                visited.add(state)\n",
    "                stack.append(state)  \n",
    "\n",
    "    print(\"No Solution Found\")\n",
    "    return False\n",
    "\n",
    "\n",
    "jug1Capacity = 4\n",
    "jug2Capacity = 3\n",
    "target = 2\n",
    "\n",
    "waterJugDFS(jug1Capacity, jug2Capacity, target)\n"
   ]
  }
 ],
 "metadata": {
  "kernelspec": {
   "display_name": "Python 3",
   "language": "python",
   "name": "python3"
  },
  "language_info": {
   "codemirror_mode": {
    "name": "ipython",
    "version": 3
   },
   "file_extension": ".py",
   "mimetype": "text/x-python",
   "name": "python",
   "nbconvert_exporter": "python",
   "pygments_lexer": "ipython3",
   "version": "3.12.7"
  }
 },
 "nbformat": 4,
 "nbformat_minor": 2
}
