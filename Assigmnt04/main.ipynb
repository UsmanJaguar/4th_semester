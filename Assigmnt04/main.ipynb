{
 "cells": [
  {
   "cell_type": "code",
   "execution_count": 2,
   "metadata": {},
   "outputs": [
    {
     "name": "stdout",
     "output_type": "stream",
     "text": [
      "Found 2 solutions for 4-Queens:\n",
      "Solution 1:\n",
      ". . Q .\n",
      "Q . . .\n",
      ". . . Q\n",
      ". Q . .\n",
      "\n",
      "Solution 2:\n",
      ". Q . .\n",
      ". . . Q\n",
      "Q . . .\n",
      ". . Q .\n",
      "\n"
     ]
    }
   ],
   "source": [
    "def display_board(grid):\n",
    "    \"\"\"Displays the N-Queens board.\"\"\"\n",
    "    for row in grid:\n",
    "        print(\" \".join(row))\n",
    "    print()\n",
    "\n",
    "def is_safe(grid, row, col, n):\n",
    "    \"\"\"Checks if placing a queen at (row, col) is safe.\"\"\"\n",
    "    for i in range(col):\n",
    "        if grid[row][i] == 'Q':\n",
    "            return False\n",
    "\n",
    "    for i, j in zip(range(row, -1, -1), range(col, -1, -1)):\n",
    "        if grid[i][j] == 'Q':\n",
    "            return False\n",
    "\n",
    "    for i, j in zip(range(row, n), range(col, -1, -1)):\n",
    "        if grid[i][j] == 'Q':\n",
    "            return False\n",
    "\n",
    "    return True\n",
    "\n",
    "def place_queens(grid, col, n, results):\n",
    "    \"\"\"Recursive function to place queens on the board.\"\"\"\n",
    "    if col >= n:\n",
    "        results.append([\"\".join(row) for row in grid])\n",
    "        return\n",
    "\n",
    "    for row in range(n):\n",
    "        if is_safe(grid, row, col, n):\n",
    "            grid[row][col] = 'Q'\n",
    "            place_queens(grid, col + 1, n, results)\n",
    "            grid[row][col] = '.' \n",
    "\n",
    "def solve_n_queens(n):\n",
    "    \"\"\"Solves the N-Queens problem dynamically for any given N.\"\"\"\n",
    "    grid = [['.' for _ in range(n)] for _ in range(n)]\n",
    "    results = []\n",
    "    place_queens(grid, 0, n, results)\n",
    "    \n",
    "    return results \n",
    "\n",
    "\n",
    "n = int(input(\"Enter the value of N for the N-Queens problem: \")) \n",
    "solutions = solve_n_queens(n)\n",
    "\n",
    "if not solutions:\n",
    "    print(\"No solution exists\")\n",
    "else:\n",
    "    print(f\"Found {len(solutions)} solutions for {n}-Queens:\")\n",
    "    for i, solution in enumerate(solutions):\n",
    "        print(f\"Solution {i+1}:\")\n",
    "        display_board(solution)\n"
   ]
  }
 ],
 "metadata": {
  "kernelspec": {
   "display_name": "Python 3",
   "language": "python",
   "name": "python3"
  },
  "language_info": {
   "codemirror_mode": {
    "name": "ipython",
    "version": 3
   },
   "file_extension": ".py",
   "mimetype": "text/x-python",
   "name": "python",
   "nbconvert_exporter": "python",
   "pygments_lexer": "ipython3",
   "version": "3.12.7"
  }
 },
 "nbformat": 4,
 "nbformat_minor": 2
}
